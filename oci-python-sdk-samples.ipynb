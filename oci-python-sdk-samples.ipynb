{
 "cells": [
  {
   "cell_type": "markdown",
   "id": "0efffa16-b0a0-4203-bfdc-5d60359b7daf",
   "metadata": {},
   "source": [
    "# OCI python SDK samples\n",
    "\n",
    "Lets see some samples on how to use the python sdk."
   ]
  },
  {
   "cell_type": "markdown",
   "id": "13b282f9-648d-461e-a0f5-4367cccb72b3",
   "metadata": {},
   "source": [
    "### Create Bucket"
   ]
  },
  {
   "cell_type": "code",
   "execution_count": null,
   "id": "40522646-a4f9-4216-9e58-4211c8cf2750",
   "metadata": {},
   "outputs": [],
   "source": [
    "# Import the client class and the model CreateBucketDetails (check package in the docs)\n",
    "import oci\n",
    "from oci.object_storage import ObjectStorageClient\n",
    "from oci.object_storage.models import CreateBucketDetails\n",
    "\n",
    "\n",
    "# Initialize some variables with your own env \n",
    "'''\n",
    "    OCI_CONFIG: Path to the config file of oci. Normally in '~/.oci/config'\n",
    "    COMPARMENT_OCID: The comparment_ocid where to create the resources\n",
    "'''\n",
    "OCI_CONFIG = '~/.oci/config'\n",
    "COMPARMENT_OCID = '<TODO>'\n",
    "\n",
    "\n",
    "'''\n",
    "    OBJECT_STORAGE_NAMESPACE: Use your object storage namespace\n",
    "    BUCKET_NAME: A bucket name that you want to create\n",
    "'''\n",
    "OBJECT_STORAGE_NAMESPACE = '<TODO>'\n",
    "BUCKET_NAME='oci-sample-bucket'\n",
    "\n",
    "\n",
    "# The config object is needed to create all the clients\n",
    "config = oci.config.from_file(OCI_CONFIG)\n",
    "\n",
    "# Create the ObjectStorageClient\n",
    "object_storage_client = ObjectStorageClient(config)\n",
    "\n",
    "# Create the input request model CreateBucketDetails with the bucket-name and comparment_ocid\n",
    "create_bucket_details = CreateBucketDetails(name=BUCKET_NAME, compartment_id=COMPARMENT_OCID)\n",
    "\n",
    "# Call the service\n",
    "response_create_bucket = object_storage_client.create_bucket(namespace_name=OBJECT_STORAGE_NAMESPACE, create_bucket_details=create_bucket_details)\n",
    "\n",
    "# Print response\n",
    "response_create_bucket.data"
   ]
  },
  {
   "cell_type": "markdown",
   "id": "5bb12577-5c76-494b-96e9-545ae8a31366",
   "metadata": {},
   "source": [
    "### Upload file to bucket"
   ]
  },
  {
   "cell_type": "code",
   "execution_count": null,
   "id": "88586378-d9c3-400f-81c4-42c3934281be",
   "metadata": {},
   "outputs": [],
   "source": [
    "# Name of the file to upload\n",
    "file_to_upload = 'some-file.txt'\n",
    "\n",
    "# Read the file content\n",
    "with open(file_to_upload, \"rb\") as file_content:\n",
    "    content = file_content.read()\n",
    "\n",
    "# Call the service\n",
    "response_upload_file = object_storage_client.put_object(namespace_name=OBJECT_STORAGE_NAMESPACE,\n",
    "                                 bucket_name=BUCKET_NAME,\n",
    "                                 object_name=file_to_upload,\n",
    "                                 put_object_body=content)\n",
    "\n",
    "# Print response (the operation is async so there is no response)\n",
    "response_upload_file.data"
   ]
  },
  {
   "cell_type": "markdown",
   "id": "675e3b8e-03c1-4946-8b22-3d264d23f06a",
   "metadata": {},
   "source": [
    "### List files in bucket"
   ]
  },
  {
   "cell_type": "code",
   "execution_count": null,
   "id": "4f745a27-d8f4-4032-b85b-cfdb2e311f7b",
   "metadata": {},
   "outputs": [],
   "source": [
    "# Call the service\n",
    "response_list_objects = object_storage_client.list_objects(namespace_name=OBJECT_STORAGE_NAMESPACE, bucket_name=BUCKET_NAME)\n",
    "\n",
    "# Print response\n",
    "response_list_objects.data"
   ]
  }
 ],
 "metadata": {
  "kernelspec": {
   "display_name": "Python 3 (ipykernel)",
   "language": "python",
   "name": "python3"
  },
  "language_info": {
   "codemirror_mode": {
    "name": "ipython",
    "version": 3
   },
   "file_extension": ".py",
   "mimetype": "text/x-python",
   "name": "python",
   "nbconvert_exporter": "python",
   "pygments_lexer": "ipython3",
   "version": "3.9.12"
  }
 },
 "nbformat": 4,
 "nbformat_minor": 5
}
